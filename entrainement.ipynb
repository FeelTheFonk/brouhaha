{
  "cells": [
    {
      "cell_type": "markdown",
      "metadata": {
        "id": "view-in-github",
        "colab_type": "text"
      },
      "source": [
        "<a href=\"https://colab.research.google.com/github/La-matrice/brouhaha/blob/main/entrainement.ipynb\" target=\"_parent\"><img src=\"https://colab.research.google.com/assets/colab-badge.svg\" alt=\"Open In Colab\"/></a>"
      ]
    },
    {
      "cell_type": "code",
      "source": [
        "# Importation des fichiers sources du Drive\n",
        "from google.colab import drive\n",
        "drive.mount('/content/drive')"
      ],
      "metadata": {
        "colab": {
          "base_uri": "https://localhost:8080/"
        },
        "id": "m8_PiUKoV-kC",
        "outputId": "1af48535-9cad-4ae8-b1c9-6f69363b7707"
      },
      "execution_count": 1,
      "outputs": [
        {
          "output_type": "stream",
          "name": "stdout",
          "text": [
            "Mounted at /content/drive\n"
          ]
        }
      ]
    },
    {
      "cell_type": "markdown",
      "metadata": {
        "id": "NR2dSP_QjwXk"
      },
      "source": [
        "# **Entrainement du modèle 'brouhaha'**\n",
        "**1) Traitement des données de text brut**\n",
        "\n",
        "*   Input : 'phrases.txt'\n",
        "*   Output : 'mots.txt'\n",
        "\n",
        "\n",
        "**2) Évaluation et attribution des formes probables**\n",
        "\n",
        "*   Input : 'mots.txt'\n",
        "*   Output : 'silence.txt'\n",
        "\n"
      ]
    },
    {
      "cell_type": "markdown",
      "metadata": {
        "id": "wskj0ZQGg4gq"
      },
      "source": [
        "# **1) Traitement des données de text brut**"
      ]
    },
    {
      "cell_type": "code",
      "execution_count": 22,
      "metadata": {
        "colab": {
          "base_uri": "https://localhost:8080/"
        },
        "id": "ATDwfQOb-gHd",
        "outputId": "b1e2a238-eb47-42ff-9767-b2239b59363e"
      },
      "outputs": [
        {
          "output_type": "stream",
          "name": "stdout",
          "text": [
            "Début de l'identification...\n",
            "pourtant|,|après|avoir|longuement|hésité|,|il|finit|par|m'|accorder|un|après-midi|par|semaine|pour|aborder|ensemble|ce|travail|.\n"
          ]
        }
      ],
      "source": [
        "import pandas as pd\n",
        "import csv\n",
        "from concurrent.futures import ProcessPoolExecutor\n",
        "\n",
        "def processus_phrases(phrase_input):\n",
        "\n",
        "    print(\"Début de l'identification...\")\n",
        "\n",
        "    dictionnaire = pd.read_csv('/content/drive/MyDrive/brouhaha_save/dictionnaire.txt', sep='|', header=None, skiprows=1, encoding='utf-8')\n",
        "    dictionnaire[0] = dictionnaire[0].apply(lambda x: x.lower())\n",
        "\n",
        "    phrase_input = phrase_input.lower().strip()\n",
        "    mots_input = []\n",
        "    affichage_phrase = \"\"\n",
        "    k = len(phrase_input) + 1\n",
        "\n",
        "    while k > 0:\n",
        "        found = False\n",
        "        i = min(27, k)  # 27 est le nombre maximum de caractères d'une expression\n",
        "        while not found and i >= 1:\n",
        "            match_index = dictionnaire[dictionnaire[0] == phrase_input[:i]].index.tolist()\n",
        "            if match_index:\n",
        "                found = True\n",
        "                mot = dictionnaire.loc[match_index[0], 0]\n",
        "                affichage_phrase = affichage_phrase + \" \" + mot\n",
        "                mots_input.append([mot])\n",
        "\n",
        "                # mettre à jour de phrase_input\n",
        "                if ' ' in phrase_input or \"'\" in phrase_input or \".\" in phrase_input:\n",
        "                    phrase_input = phrase_input[len(mot):].strip()\n",
        "                    k = len(phrase_input)\n",
        "                else:\n",
        "                    phrase_input = ''\n",
        "                    k = 0\n",
        "            else:\n",
        "                i -= 1\n",
        "\n",
        "            if i == 0:\n",
        "                print(f\"Certains mots sont introuvables dans le dictionnaire : {phrase_input}\")\n",
        "                k = 0\n",
        "                break\n",
        "\n",
        "    if found == True:\n",
        "        phrase_output = \"|\".join([mots_input[k][0] for k in range(len(mots_input))])\n",
        "        print(phrase_output)\n",
        "\n",
        "        with open(\"mots_v2.txt\", \"a\") as file:\n",
        "            file.write(phrase_output + '\\n')\n",
        "\n",
        "if __name__ == '__main__':\n",
        "    phrases = pd.read_csv(\"/content/drive/MyDrive/brouhaha_save/phrases.txt\", delimiter = \"\\t\", header=None)\n",
        "    processus_phrases(phrases[0][1])\n",
        "    #processus_phrases(\"c'est un pas\")\n",
        "\n",
        "    #with ProcessPoolExecutor() as executor:\n",
        "     #   executor.map(processus_phrases, phrases[0])"
      ]
    }
  ],
  "metadata": {
    "colab": {
      "provenance": [],
      "include_colab_link": true
    },
    "kernelspec": {
      "display_name": "Python 3 (ipykernel)",
      "language": "python",
      "name": "python3"
    },
    "language_info": {
      "codemirror_mode": {
        "name": "ipython",
        "version": 3
      },
      "file_extension": ".py",
      "mimetype": "text/x-python",
      "name": "python",
      "nbconvert_exporter": "python",
      "pygments_lexer": "ipython3",
      "version": "3.10.11"
    }
  },
  "nbformat": 4,
  "nbformat_minor": 0
}