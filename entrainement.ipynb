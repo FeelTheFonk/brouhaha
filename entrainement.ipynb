{
  "cells": [
    {
      "cell_type": "markdown",
      "metadata": {
        "id": "view-in-github",
        "colab_type": "text"
      },
      "source": [
        "<a href=\"https://colab.research.google.com/github/La-matrice/brouhaha/blob/main/entrainement.ipynb\" target=\"_parent\"><img src=\"https://colab.research.google.com/assets/colab-badge.svg\" alt=\"Open In Colab\"/></a>"
      ]
    },
    {
      "cell_type": "code",
      "source": [
        "# Importation des fichiers sources du Drive\n",
        "from google.colab import drive\n",
        "drive.mount('/content/drive')"
      ],
      "metadata": {
        "id": "m8_PiUKoV-kC"
      },
      "execution_count": null,
      "outputs": []
    },
    {
      "cell_type": "markdown",
      "metadata": {
        "id": "NR2dSP_QjwXk"
      },
      "source": [
        "# **Entrainement du modèle 'brouhaha'**\n",
        "**1) Traitement des données de text brut**\n",
        "\n",
        "*   Input : 'phrases.txt'\n",
        "*   Output : 'mots.txt'\n",
        "\n",
        "\n",
        "**2) Évaluation et attribution des formes probables**\n",
        "\n",
        "*   Input : 'mots.txt'\n",
        "*   Output : 'silence.txt'\n",
        "\n"
      ]
    },
    {
      "cell_type": "markdown",
      "metadata": {
        "id": "wskj0ZQGg4gq"
      },
      "source": [
        "# **1) Traitement des données de text brut**"
      ]
    },
    {
      "cell_type": "code",
      "execution_count": null,
      "metadata": {
        "id": "ATDwfQOb-gHd"
      },
      "outputs": [],
      "source": [
        "import pandas as pd\n",
        "import csv\n",
        "from concurrent.futures import ProcessPoolExecutor\n",
        "\n",
        "def processus_phrases(phrase_input):\n",
        "\n",
        "    plafond = 150\n",
        "    affichage_phrase = \"\"\n",
        "\n",
        "    print(\"Début de l'identification...\")\n",
        "\n",
        "    phrases = pd.read_csv(\"mots.txt\", delimiter = \"\\t\", header=None)\n",
        "    dictionnaire = pd.read_csv('dictionnaire.txt', sep='|', header=None, skiprows=1, encoding='utf-8')\n",
        "    dictionnaire[0] = dictionnaire[0].apply(lambda x: x.lower())\n",
        "\n",
        "    # Initialisation de la liste de résultats\n",
        "    result_list = []\n",
        "    phrase_input = phrase_input.lower().strip()\n",
        "\n",
        "    # Boucle de recherche d'expressions\n",
        "    k = len(phrase_input) + 1\n",
        "\n",
        "    while k > 0:\n",
        "        found = False\n",
        "        i = min(27, k)  # le nombre maximum de caractères d'une expression\n",
        "\n",
        "        while not found:\n",
        "            match_index = dictionnaire[dictionnaire[0] == phrase_input[:i]].index.tolist()\n",
        "            # Si une correspondance est trouvée\n",
        "            if match_index:\n",
        "                mot = dictionnaire.loc[match_index[0], 0]\n",
        "                affichage_phrase = affichage_phrase + \" \" + mot\n",
        "\n",
        "                # Ajoute les résultats à la liste de résultats\n",
        "                result_list.append([mot, id_, '', '', '', '', cv, freq])\n",
        "                found = True\n",
        "\n",
        "                # Mise à jour de phrase_input\n",
        "                if ' ' in phrase_input or \"'\" in phrase_input:\n",
        "                    phrase_input = phrase_input[len(mot):].strip()\n",
        "                    k = len(phrase_input)\n",
        "                else:\n",
        "                    phrase_input = ''\n",
        "                    k = 0\n",
        "            else:\n",
        "                i -= 1\n",
        "\n",
        "            # Si aucun mot n'est trouvé\n",
        "            if i == 0:\n",
        "                print(f\"Certains mots sont introuvables dans le dictionnaire : {phrase_input}\")\n",
        "                k = 0\n",
        "                break\n",
        "\n",
        "    print(affichage_phrase)\n",
        "\n",
        "    if found == True:\n",
        "\n",
        "        phrase_output = \"|\".join([mots_input[k][0] for k in range(limite)])\n",
        "        print(phrase_output)\n",
        "\n",
        "        with open(\"mots_v2.txt\", \"a\") as file:\n",
        "            file.write(phrase_output + '\\n')\n",
        "\n",
        "if __name__ == '__main__':\n",
        "\n",
        "    phrases = pd.read_csv(\"phrases.txt\", delimiter = \"\\t\", header=None)\n",
        "    processus_phrases(phrases[0][0])\n",
        "    #processus_phrases(\"c'est un pas\")\n",
        "\n",
        "    #with ProcessPoolExecutor() as executor:\n",
        "     #   executor.map(processus_phrases, phrases[0])"
      ]
    }
  ],
  "metadata": {
    "colab": {
      "provenance": [],
      "include_colab_link": true
    },
    "kernelspec": {
      "display_name": "Python 3 (ipykernel)",
      "language": "python",
      "name": "python3"
    },
    "language_info": {
      "codemirror_mode": {
        "name": "ipython",
        "version": 3
      },
      "file_extension": ".py",
      "mimetype": "text/x-python",
      "name": "python",
      "nbconvert_exporter": "python",
      "pygments_lexer": "ipython3",
      "version": "3.10.11"
    }
  },
  "nbformat": 4,
  "nbformat_minor": 0
}